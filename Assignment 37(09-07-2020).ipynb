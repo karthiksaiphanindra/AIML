{
 "cells": [
  {
   "cell_type": "markdown",
   "metadata": {
    "colab_type": "text",
    "id": "lHYB5Ip2FrNS"
   },
   "source": [
    "# ECE-221710405015-M.Kathik"
   ]
  },
  {
   "cell_type": "code",
   "execution_count": 1,
   "metadata": {
    "colab": {},
    "colab_type": "code",
    "id": "uX_yTmw2FV9U"
   },
   "outputs": [],
   "source": [
    "import tensorflow as tf\n",
    "import tensorflow.keras as keras\n",
    "import numpy as np\n",
    "import matplotlib.pyplot as plt\n",
    "%matplotlib inline"
   ]
  },
  {
   "cell_type": "code",
   "execution_count": 2,
   "metadata": {
    "colab": {
     "base_uri": "https://localhost:8080/",
     "height": 34
    },
    "colab_type": "code",
    "id": "sVRllwXyFeTC",
    "outputId": "5270ace5-3247-4943-8a47-ba7d8641f47d"
   },
   "outputs": [],
   "source": [
    "from keras.datasets.mnist import load_data"
   ]
  },
  {
   "cell_type": "code",
   "execution_count": 3,
   "metadata": {
    "colab": {
     "base_uri": "https://localhost:8080/",
     "height": 84
    },
    "colab_type": "code",
    "id": "q-IO4IHGFiGu",
    "outputId": "47d39e71-0799-4206-d34f-d68b92abfa9c"
   },
   "outputs": [
    {
     "name": "stdout",
     "output_type": "stream",
     "text": [
      "Downloading data from https://storage.googleapis.com/tensorflow/tf-keras-datasets/mnist.npz\n",
      "11493376/11490434 [==============================] - 1s 0us/step\n",
      "(60000, 28, 28)\n",
      "(10000, 28, 28)\n"
     ]
    }
   ],
   "source": [
    "(train_digits,train_labels),(test_digits,test_labels)=load_data()\n",
    "print(train_digits.shape)\n",
    "print(test_digits.shape)"
   ]
  },
  {
   "cell_type": "code",
   "execution_count": 4,
   "metadata": {
    "colab": {
     "base_uri": "https://localhost:8080/",
     "height": 218
    },
    "colab_type": "code",
    "id": "6MxmXm7DFlru",
    "outputId": "f3e63f78-4d1c-4d59-bec1-ede9306baffe"
   },
   "outputs": [
    {
     "data": {
      "text/plain": [
       "<bound method IndexOpsMixin.value_counts of 0        5\n",
       "1        0\n",
       "2        4\n",
       "3        1\n",
       "4        9\n",
       "        ..\n",
       "59995    8\n",
       "59996    3\n",
       "59997    5\n",
       "59998    6\n",
       "59999    8\n",
       "Length: 60000, dtype: uint8>"
      ]
     },
     "execution_count": 4,
     "metadata": {},
     "output_type": "execute_result"
    }
   ],
   "source": [
    "import pandas as pd\n",
    "pd.Series(train_labels).value_counts"
   ]
  },
  {
   "cell_type": "code",
   "execution_count": 5,
   "metadata": {
    "colab": {
     "base_uri": "https://localhost:8080/",
     "height": 218
    },
    "colab_type": "code",
    "id": "nR445WoSFqZa",
    "outputId": "16d5acd7-4c69-4f7f-9550-6bcc395da6be"
   },
   "outputs": [
    {
     "data": {
      "text/plain": [
       "<bound method IndexOpsMixin.value_counts of 0       7\n",
       "1       2\n",
       "2       1\n",
       "3       0\n",
       "4       4\n",
       "       ..\n",
       "9995    2\n",
       "9996    3\n",
       "9997    4\n",
       "9998    5\n",
       "9999    6\n",
       "Length: 10000, dtype: uint8>"
      ]
     },
     "execution_count": 5,
     "metadata": {},
     "output_type": "execute_result"
    }
   ],
   "source": [
    "pd.Series(test_labels).value_counts"
   ]
  },
  {
   "cell_type": "code",
   "execution_count": 6,
   "metadata": {
    "colab": {
     "base_uri": "https://localhost:8080/",
     "height": 282
    },
    "colab_type": "code",
    "id": "cpAtNO7vGjmt",
    "outputId": "440a1e3e-b157-438f-b401-5ca762c9859d"
   },
   "outputs": [
    {
     "data": {
      "text/plain": [
       "<matplotlib.image.AxesImage at 0x247eb382e08>"
      ]
     },
     "execution_count": 6,
     "metadata": {},
     "output_type": "execute_result"
    },
    {
     "data": {
      "image/png": "[encoded data removed]",
      "text/plain": [
       "<Figure size 432x288 with 1 Axes>"
      ]
     },
     "metadata": {
      "needs_background": "light"
     },
     "output_type": "display_data"
    }
   ],
   "source": [
    "plt.imshow(train_digits[0])"
   ]
  },
  {
   "cell_type": "code",
   "execution_count": 7,
   "metadata": {
    "colab": {
     "base_uri": "https://localhost:8080/",
     "height": 298
    },
    "colab_type": "code",
    "id": "S0rAqfS4GnH8",
    "outputId": "c5613bb9-38cd-4122-da2d-ce368940fc3f"
   },
   "outputs": [
    {
     "data": {
      "text/plain": [
       "<matplotlib.image.AxesImage at 0x247eb42cd08>"
      ]
     },
     "execution_count": 7,
     "metadata": {},
     "output_type": "execute_result"
    },
    {
     "data": {
      "image/png": "[encoded data removed]",
      "text/plain": [
       "<Figure size 432x288 with 1 Axes>"
      ]
     },
     "metadata": {
      "needs_background": "light"
     },
     "output_type": "display_data"
    }
   ],
   "source": [
    "plt.title(\"Digit:\"+str(train_labels[0]))\n",
    "plt.imshow(train_digits[0],cmap=\"gray\")"
   ]
  },
  {
   "cell_type": "code",
   "execution_count": 8,
   "metadata": {
    "colab": {
     "base_uri": "https://localhost:8080/",
     "height": 265
    },
    "colab_type": "code",
    "id": "XszRGi1RGqqn",
    "outputId": "f663d920-0054-42d0-b22e-15ea824e2d18"
   },
   "outputs": [
    {
     "data": {
      "image/png": "[encoded data removed]",
      "text/plain": [
       "<Figure size 432x288 with 1 Axes>"
      ]
     },
     "metadata": {
      "needs_background": "light"
     },
     "output_type": "display_data"
    }
   ],
   "source": [
    "plt.hist(train_digits[0])\n",
    "plt.show()"
   ]
  },
  {
   "cell_type": "code",
   "execution_count": 9,
   "metadata": {
    "colab": {
     "base_uri": "https://localhost:8080/",
     "height": 50
    },
    "colab_type": "code",
    "id": "uGIFHbm_GtjS",
    "outputId": "7427b5e4-a135-4d22-f1ba-bf53269e7ed7"
   },
   "outputs": [
    {
     "data": {
      "text/plain": [
       "array([30488, 53979, 42528, 16156, 12659, 29017, 33746, 28709, 42082,\n",
       "       15284, 30129, 30890, 22044, 46711, 10423, 31226])"
      ]
     },
     "execution_count": 9,
     "metadata": {},
     "output_type": "execute_result"
    }
   ],
   "source": [
    "samp=np.random.randint(train_digits.shape[0],size=16)\n",
    "samp"
   ]
  },
  {
   "cell_type": "code",
   "execution_count": 10,
   "metadata": {
    "colab": {
     "base_uri": "https://localhost:8080/",
     "height": 657
    },
    "colab_type": "code",
    "id": "vhECXaU1GwfB",
    "outputId": "393016d8-c05e-4463-96c3-0b3a90ad2fa6"
   },
   "outputs": [
    {
     "data": {
      "image/png": "[encoded data removed]",
      "text/plain": [
       "<Figure size 1152x1152 with 16 Axes>"
      ]
     },
     "metadata": {
      "needs_background": "light"
     },
     "output_type": "display_data"
    }
   ],
   "source": [
    "plt.figure(figsize=(16,16))\n",
    "j=1\n",
    "for i in samp:\n",
    "  plt.subplot(4,4,j)\n",
    "  plt.imshow(train_digits[i])\n",
    "  plt.title(\"Digit:\"+str(train_labels[i]))\n",
    "  plt.axis(\"off\")\n",
    "  j=j+1"
   ]
  },
  {
   "cell_type": "code",
   "execution_count": 11,
   "metadata": {
    "colab": {},
    "colab_type": "code",
    "id": "CeS8uGOyGzyz"
   },
   "outputs": [],
   "source": [
    "train_digits_sc=train_digits/255.0\n",
    "test_digits_sc=test_digits/255.0"
   ]
  },
  {
   "cell_type": "code",
   "execution_count": 12,
   "metadata": {
    "colab": {},
    "colab_type": "code",
    "id": "LwUpm-xEG7u3"
   },
   "outputs": [],
   "source": [
    "from keras.utils import to_categorical"
   ]
  },
  {
   "cell_type": "code",
   "execution_count": 13,
   "metadata": {
    "colab": {},
    "colab_type": "code",
    "id": "yh10UxdnG-UK"
   },
   "outputs": [],
   "source": [
    "train_labels_cat=to_categorical(train_labels)"
   ]
  },
  {
   "cell_type": "code",
   "execution_count": 14,
   "metadata": {
    "colab": {},
    "colab_type": "code",
    "id": "AqlD3bDSHAos"
   },
   "outputs": [],
   "source": [
    "test_labels_cat=to_categorical(test_labels)"
   ]
  },
  {
   "cell_type": "code",
   "execution_count": 15,
   "metadata": {
    "colab": {
     "base_uri": "https://localhost:8080/",
     "height": 84
    },
    "colab_type": "code",
    "id": "ZmPeSz9QHDIO",
    "outputId": "b0f05184-799e-45f8-a4ba-eb8f36058514"
   },
   "outputs": [
    {
     "name": "stdout",
     "output_type": "stream",
     "text": [
      "(54000, 28, 28)\n",
      "(6000, 28, 28)\n",
      "(54000, 10)\n",
      "(6000, 10)\n"
     ]
    }
   ],
   "source": [
    "from sklearn.model_selection import train_test_split\n",
    "x_train,x_val,y_train,y_val=train_test_split(train_digits_sc,train_labels_cat,test_size=0.1,random_state=32)\n",
    "print(x_train.shape)\n",
    "print(x_val.shape)\n",
    "print(y_train.shape)\n",
    "print(y_val.shape)"
   ]
  },
  {
   "cell_type": "code",
   "execution_count": 16,
   "metadata": {
    "colab": {
     "base_uri": "https://localhost:8080/",
     "height": 353
    },
    "colab_type": "code",
    "id": "dGsCN8mMHF0X",
    "outputId": "55a788df-8bdc-4317-abef-f085aef27848"
   },
   "outputs": [
    {
     "name": "stdout",
     "output_type": "stream",
     "text": [
      "Model: \"sequential\"\n",
      "_________________________________________________________________\n",
      "Layer (type)                 Output Shape              Param #   \n",
      "=================================================================\n",
      "flatten (Flatten)            (None, 784)               0         \n",
      "_________________________________________________________________\n",
      "dense (Dense)                (None, 128)               100480    \n",
      "_________________________________________________________________\n",
      "dense_1 (Dense)              (None, 128)               16512     \n",
      "_________________________________________________________________\n",
      "dense_2 (Dense)              (None, 64)                8256      \n",
      "_________________________________________________________________\n",
      "dense_3 (Dense)              (None, 256)               16640     \n",
      "_________________________________________________________________\n",
      "dense_4 (Dense)              (None, 10)                2570      \n",
      "=================================================================\n",
      "Total params: 144,458\n",
      "Trainable params: 144,458\n",
      "Non-trainable params: 0\n",
      "_________________________________________________________________\n"
     ]
    }
   ],
   "source": [
    "from keras.models import Sequential\n",
    "from keras.layers import Dense,Flatten\n",
    "\n",
    "model = Sequential()\n",
    "# first layer we need to mention the input shape\n",
    "\n",
    "model.add(Flatten(input_shape=(28,28)))\n",
    "## 784 pixel values as input to this Dense. 128 Neurons in the layers\n",
    "model.add(Dense(128,activation='relu'))# 784 * 128+128\n",
    "model.add(Dense(128,activation='relu'))# \n",
    "model.add(Dense(64,activation='relu'))\n",
    "model.add(Dense(256,activation='relu'))\n",
    "#Final layer\n",
    "model.add(Dense(10,activation='softmax'))\n",
    "model.summary()"
   ]
  },
  {
   "cell_type": "code",
   "execution_count": 17,
   "metadata": {
    "colab": {},
    "colab_type": "code",
    "id": "dPVqE0NaHJKn"
   },
   "outputs": [],
   "source": [
    "model.compile(optimizer='adam',loss=tf.keras.losses.CategoricalCrossentropy(),metrics=['accuracy'])"
   ]
  },
  {
   "cell_type": "code",
   "execution_count": 18,
   "metadata": {
    "colab": {
     "base_uri": "https://localhost:8080/",
     "height": 222
    },
    "colab_type": "code",
    "id": "AChWvUSDHNWG",
    "outputId": "020ac52b-c270-4da7-d8b2-8091a0295766"
   },
   "outputs": [
    {
     "name": "stdout",
     "output_type": "stream",
     "text": [
      "Epoch 1/5\n",
      "1688/1688 [==============================] - 5s 3ms/step - loss: 0.2488 - accuracy: 0.9252 - val_loss: 0.1654 - val_accuracy: 0.9503\n",
      "Epoch 2/5\n",
      "1688/1688 [==============================] - 4s 3ms/step - loss: 0.1147 - accuracy: 0.9650 - val_loss: 0.1236 - val_accuracy: 0.9660\n",
      "Epoch 3/5\n",
      "1688/1688 [==============================] - 5s 3ms/step - loss: 0.0845 - accuracy: 0.9741 - val_loss: 0.1226 - val_accuracy: 0.9673\n",
      "Epoch 4/5\n",
      "1688/1688 [==============================] - 4s 3ms/step - loss: 0.0658 - accuracy: 0.9795 - val_loss: 0.1012 - val_accuracy: 0.9733\n",
      "Epoch 5/5\n",
      "1688/1688 [==============================] - 4s 2ms/step - loss: 0.0534 - accuracy: 0.9835 - val_loss: 0.1113 - val_accuracy: 0.9725\n"
     ]
    }
   ],
   "source": [
    "history=model.fit(x=x_train,y=y_train,epochs=5,validation_data=(x_val,y_val),batch_size=32)"
   ]
  },
  {
   "cell_type": "code",
   "execution_count": 19,
   "metadata": {
    "colab": {
     "base_uri": "https://localhost:8080/",
     "height": 50
    },
    "colab_type": "code",
    "id": "3Ig8LedmHQQ1",
    "outputId": "eb0f9d0c-77ce-4d3e-c963-d0264bedf7d9"
   },
   "outputs": [
    {
     "name": "stdout",
     "output_type": "stream",
     "text": [
      "313/313 [==============================] - 0s 1ms/step - loss: 0.1076 - accuracy: 0.9723\n"
     ]
    },
    {
     "data": {
      "text/plain": [
       "[0.10761958360671997, 0.9722999930381775]"
      ]
     },
     "execution_count": 19,
     "metadata": {},
     "output_type": "execute_result"
    }
   ],
   "source": [
    "model.evaluate(test_digits_sc,test_labels_cat)"
   ]
  },
  {
   "cell_type": "code",
   "execution_count": 20,
   "metadata": {
    "colab": {
     "base_uri": "https://localhost:8080/",
     "height": 67
    },
    "colab_type": "code",
    "id": "upzAJ9yKHcwA",
    "outputId": "b0418ec2-24e4-44c1-9c8d-88e5ebc4412a"
   },
   "outputs": [
    {
     "name": "stdout",
     "output_type": "stream",
     "text": [
      "(10000, 28, 28)\n",
      "(28, 28)\n",
      "(1, 28, 28)\n"
     ]
    }
   ],
   "source": [
    "print(test_digits_sc.shape)\n",
    "print(test_digits_sc[0].shape)\n",
    "print(np.expand_dims(test_digits_sc[0],axis=0).shape)"
   ]
  },
  {
   "cell_type": "code",
   "execution_count": 21,
   "metadata": {
    "colab": {
     "base_uri": "https://localhost:8080/",
     "height": 67
    },
    "colab_type": "code",
    "id": "rwV9he6yIpH5",
    "outputId": "c82cfad7-00b4-40db-cc97-0f38f2d6bf28"
   },
   "outputs": [
    {
     "data": {
      "text/plain": [
       "array([[2.7514475e-06, 4.1928951e-04, 6.7049958e-04, 1.2256163e-04,\n",
       "        2.3038367e-06, 2.0038083e-06, 7.7251183e-09, 9.9849474e-01,\n",
       "        5.9764363e-05, 2.2605546e-04]], dtype=float32)"
      ]
     },
     "execution_count": 21,
     "metadata": {},
     "output_type": "execute_result"
    }
   ],
   "source": [
    "model.predict(np.expand_dims(test_digits_sc[0],axis=0))"
   ]
  },
  {
   "cell_type": "code",
   "execution_count": 22,
   "metadata": {
    "colab": {
     "base_uri": "https://localhost:8080/",
     "height": 521
    },
    "colab_type": "code",
    "id": "nMUpTjYkIsef",
    "outputId": "b10e1766-2e6b-449d-ef62-57746b8ae236"
   },
   "outputs": [
    {
     "data": {
      "text/plain": [
       "array([[2.75144998e-06, 4.19289892e-04, 6.70499867e-04, 1.22561745e-04,\n",
       "        2.30383671e-06, 2.00381010e-06, 7.72511832e-09, 9.98494744e-01,\n",
       "        5.97644175e-05, 2.26055679e-04],\n",
       "       [1.12499015e-06, 8.73321060e-09, 9.99996662e-01, 1.67640633e-06,\n",
       "        1.05107798e-08, 1.66635648e-08, 2.43065532e-08, 2.28822998e-07,\n",
       "        2.49119495e-07, 5.85903244e-12],\n",
       "       [4.13018688e-06, 9.99803841e-01, 1.02992235e-05, 1.02263516e-06,\n",
       "        5.09338533e-05, 3.47620016e-07, 6.42783516e-06, 5.64959664e-05,\n",
       "        6.46591943e-05, 1.75598404e-06],\n",
       "       [9.99986291e-01, 3.69992176e-10, 2.56690464e-06, 6.25922425e-08,\n",
       "        6.08799979e-08, 3.01747264e-07, 9.22775780e-06, 6.81543755e-09,\n",
       "        5.41189024e-07, 7.00521070e-07],\n",
       "       [1.90575378e-09, 1.63081229e-08, 3.15041788e-08, 1.89552984e-10,\n",
       "        9.99982834e-01, 6.93407609e-10, 3.52319285e-10, 9.25613151e-08,\n",
       "        1.24239952e-08, 1.71008523e-05],\n",
       "       [2.55498975e-07, 9.99979496e-01, 2.52539394e-07, 6.70462725e-08,\n",
       "        3.41734199e-06, 7.91623744e-09, 1.01305716e-07, 1.30184480e-05,\n",
       "        3.04771334e-06, 2.74228029e-07],\n",
       "       [1.35186573e-08, 7.68492100e-07, 1.61805858e-07, 1.16889332e-09,\n",
       "        9.99960780e-01, 1.71408931e-08, 2.24501573e-08, 9.58849569e-07,\n",
       "        2.74606573e-05, 9.88585543e-06],\n",
       "       [5.73795387e-06, 6.27124336e-06, 9.56303666e-07, 1.71274514e-04,\n",
       "        2.51222635e-04, 8.29795954e-06, 2.57394355e-08, 2.16772914e-05,\n",
       "        4.06672589e-05, 9.99493837e-01],\n",
       "       [9.77694617e-06, 8.37385014e-05, 1.26493105e-04, 1.48936451e-04,\n",
       "        1.73671287e-04, 9.81160581e-01, 1.04128076e-02, 8.56665224e-07,\n",
       "        6.59517990e-03, 1.28801062e-03],\n",
       "       [1.47621779e-06, 1.68332408e-05, 3.82346542e-07, 1.12451664e-06,\n",
       "        3.44930440e-01, 4.72637765e-07, 2.07172377e-08, 4.69393235e-05,\n",
       "        2.56065287e-05, 6.54976606e-01]], dtype=float32)"
      ]
     },
     "execution_count": 22,
     "metadata": {},
     "output_type": "execute_result"
    }
   ],
   "source": [
    "model.predict(test_digits_sc[:10])"
   ]
  },
  {
   "cell_type": "code",
   "execution_count": 23,
   "metadata": {
    "colab": {
     "base_uri": "https://localhost:8080/",
     "height": 34
    },
    "colab_type": "code",
    "id": "UpLMy3loIwKZ",
    "outputId": "388babcd-6acb-484a-f1a3-00688fff4526"
   },
   "outputs": [
    {
     "name": "stdout",
     "output_type": "stream",
     "text": [
      "WARNING:tensorflow:From <ipython-input-23-ad8bb5ea92c3>:1: Sequential.predict_classes (from tensorflow.python.keras.engine.sequential) is deprecated and will be removed after 2021-01-01.\n",
      "Instructions for updating:\n",
      "Please use instead:* `np.argmax(model.predict(x), axis=-1)`,   if your model does multi-class classification   (e.g. if it uses a `softmax` last-layer activation).* `(model.predict(x) > 0.5).astype(\"int32\")`,   if your model does binary classification   (e.g. if it uses a `sigmoid` last-layer activation).\n"
     ]
    },
    {
     "data": {
      "text/plain": [
       "array([7], dtype=int64)"
      ]
     },
     "execution_count": 23,
     "metadata": {},
     "output_type": "execute_result"
    }
   ],
   "source": [
    "model.predict_classes(np.expand_dims(test_digits_sc[0],axis=0))"
   ]
  },
  {
   "cell_type": "code",
   "execution_count": 24,
   "metadata": {
    "colab": {
     "base_uri": "https://localhost:8080/",
     "height": 67
    },
    "colab_type": "code",
    "id": "ix2U29g_Izhp",
    "outputId": "3430abf9-1f95-464f-ed72-8c759a1bace7"
   },
   "outputs": [
    {
     "name": "stdout",
     "output_type": "stream",
     "text": [
      "WARNING:tensorflow:From <ipython-input-24-31a4ab1b928b>:1: Sequential.predict_proba (from tensorflow.python.keras.engine.sequential) is deprecated and will be removed after 2021-01-01.\n",
      "Instructions for updating:\n",
      "Please use `model.predict()` instead.\n"
     ]
    },
    {
     "data": {
      "text/plain": [
       "array([[2.7514475e-06, 4.1928951e-04, 6.7049958e-04, 1.2256163e-04,\n",
       "        2.3038367e-06, 2.0038083e-06, 7.7251183e-09, 9.9849474e-01,\n",
       "        5.9764363e-05, 2.2605546e-04]], dtype=float32)"
      ]
     },
     "execution_count": 24,
     "metadata": {},
     "output_type": "execute_result"
    }
   ],
   "source": [
    "model.predict_proba(np.expand_dims(test_digits_sc[0],axis=0))"
   ]
  },
  {
   "cell_type": "code",
   "execution_count": 25,
   "metadata": {
    "colab": {
     "base_uri": "https://localhost:8080/",
     "height": 286
    },
    "colab_type": "code",
    "id": "GSuf7gdNI3I1",
    "outputId": "bda3245f-030a-4aab-b6e5-a5205ef42cfa"
   },
   "outputs": [
    {
     "data": {
      "text/plain": [
       "{'loss': [0.24880936741828918,\n",
       "  0.11467684805393219,\n",
       "  0.08445004373788834,\n",
       "  0.06576348096132278,\n",
       "  0.05337424948811531],\n",
       " 'accuracy': [0.9252222180366516,\n",
       "  0.9649814963340759,\n",
       "  0.9741296172142029,\n",
       "  0.9795185327529907,\n",
       "  0.9834629893302917],\n",
       " 'val_loss': [0.1654229611158371,\n",
       "  0.123588927090168,\n",
       "  0.12260468304157257,\n",
       "  0.1011991873383522,\n",
       "  0.11128561198711395],\n",
       " 'val_accuracy': [0.9503333568572998,\n",
       "  0.9660000205039978,\n",
       "  0.9673333168029785,\n",
       "  0.9733333587646484,\n",
       "  0.9725000262260437]}"
      ]
     },
     "execution_count": 25,
     "metadata": {},
     "output_type": "execute_result"
    }
   ],
   "source": [
    "history.history"
   ]
  },
  {
   "cell_type": "code",
   "execution_count": 26,
   "metadata": {
    "colab": {
     "base_uri": "https://localhost:8080/",
     "height": 282
    },
    "colab_type": "code",
    "id": "8R0r9xzTI552",
    "outputId": "9214cf2e-d003-4f09-c31b-46bc391e9692"
   },
   "outputs": [
    {
     "data": {
      "text/plain": [
       "[<matplotlib.lines.Line2D at 0x247f2e17f48>]"
      ]
     },
     "execution_count": 26,
     "metadata": {},
     "output_type": "execute_result"
    },
    {
     "data": {
      "image/png": "[encoded data removed]",
      "text/plain": [
       "<Figure size 432x288 with 1 Axes>"
      ]
     },
     "metadata": {
      "needs_background": "light"
     },
     "output_type": "display_data"
    }
   ],
   "source": [
    "plt.plot(history.history['accuracy'])\n",
    "plt.plot(history.history['val_accuracy'])"
   ]
  },
  {
   "cell_type": "code",
   "execution_count": 27,
   "metadata": {
    "colab": {
     "base_uri": "https://localhost:8080/",
     "height": 353
    },
    "colab_type": "code",
    "id": "YIvjDI9qI8fU",
    "outputId": "bcd21cb9-95d4-46c0-8312-53be9194f6a0"
   },
   "outputs": [
    {
     "name": "stdout",
     "output_type": "stream",
     "text": [
      "Model: \"sequential_1\"\n",
      "_________________________________________________________________\n",
      "Layer (type)                 Output Shape              Param #   \n",
      "=================================================================\n",
      "flatten_1 (Flatten)          (None, 784)               0         \n",
      "_________________________________________________________________\n",
      "dense_5 (Dense)              (None, 128)               100480    \n",
      "_________________________________________________________________\n",
      "dense_6 (Dense)              (None, 256)               33024     \n",
      "_________________________________________________________________\n",
      "dense_7 (Dense)              (None, 64)                16448     \n",
      "_________________________________________________________________\n",
      "dense_8 (Dense)              (None, 256)               16640     \n",
      "_________________________________________________________________\n",
      "dense_9 (Dense)              (None, 10)                2570      \n",
      "=================================================================\n",
      "Total params: 169,162\n",
      "Trainable params: 169,162\n",
      "Non-trainable params: 0\n",
      "_________________________________________________________________\n"
     ]
    }
   ],
   "source": [
    "model1 = Sequential()\n",
    "# first layer we need to mention the input shape\n",
    "\n",
    "model1.add(Flatten(input_shape=(28,28)))\n",
    "## 784 pixel values as input to this Dense. 128 Neurons in the layers\n",
    "model1.add(Dense(128,activation='relu'))# 784 * 128+128\n",
    "model1.add(Dense(256,activation='relu'))# \n",
    "model1.add(Dense(64,activation='relu'))\n",
    "model1.add(Dense(256,activation='relu'))\n",
    "#Final layer\n",
    "model1.add(Dense(10,activation='sigmoid'))\n",
    "model1.summary()"
   ]
  },
  {
   "cell_type": "code",
   "execution_count": 28,
   "metadata": {
    "colab": {},
    "colab_type": "code",
    "id": "ow0mkZ0pJAGo"
   },
   "outputs": [],
   "source": [
    "model1.compile(optimizer='adam',loss=tf.keras.losses.CategoricalCrossentropy(),metrics=['accuracy'])"
   ]
  },
  {
   "cell_type": "code",
   "execution_count": 29,
   "metadata": {
    "colab": {
     "base_uri": "https://localhost:8080/",
     "height": 222
    },
    "colab_type": "code",
    "id": "RAh-jRcCJDox",
    "outputId": "d4aeb53c-dd87-4ece-a3c0-9a369eb50128"
   },
   "outputs": [
    {
     "name": "stdout",
     "output_type": "stream",
     "text": [
      "Epoch 1/5\n",
      "1688/1688 [==============================] - 5s 3ms/step - loss: 0.2603 - accuracy: 0.9223 - val_loss: 0.1398 - val_accuracy: 0.9578\n",
      "Epoch 2/5\n",
      "1688/1688 [==============================] - 5s 3ms/step - loss: 0.1123 - accuracy: 0.9664 - val_loss: 0.1064 - val_accuracy: 0.9712\n",
      "Epoch 3/5\n",
      "1688/1688 [==============================] - 5s 3ms/step - loss: 0.0818 - accuracy: 0.9749 - val_loss: 0.0963 - val_accuracy: 0.9718\n",
      "Epoch 4/5\n",
      "1688/1688 [==============================] - 5s 3ms/step - loss: 0.0637 - accuracy: 0.9807 - val_loss: 0.1041 - val_accuracy: 0.9715\n",
      "Epoch 5/5\n",
      "1688/1688 [==============================] - 5s 3ms/step - loss: 0.0526 - accuracy: 0.9838 - val_loss: 0.0827 - val_accuracy: 0.9775\n"
     ]
    }
   ],
   "source": [
    "history=model1.fit(x=x_train,y=y_train,epochs=5,validation_data=(x_val,y_val),batch_size=32)"
   ]
  },
  {
   "cell_type": "code",
   "execution_count": 30,
   "metadata": {
    "colab": {
     "base_uri": "https://localhost:8080/",
     "height": 50
    },
    "colab_type": "code",
    "id": "p8QLfl_EJPJk",
    "outputId": "0afbacac-1c92-49e8-ac93-3d7fafd8655a"
   },
   "outputs": [
    {
     "name": "stdout",
     "output_type": "stream",
     "text": [
      "313/313 [==============================] - 0s 1ms/step - loss: 0.0765 - accuracy: 0.9770\n"
     ]
    },
    {
     "data": {
      "text/plain": [
       "[0.07652747631072998, 0.9769999980926514]"
      ]
     },
     "execution_count": 30,
     "metadata": {},
     "output_type": "execute_result"
    }
   ],
   "source": [
    "model1.evaluate(test_digits_sc,test_labels_cat)"
   ]
  },
  {
   "cell_type": "code",
   "execution_count": 31,
   "metadata": {
    "colab": {
     "base_uri": "https://localhost:8080/",
     "height": 67
    },
    "colab_type": "code",
    "id": "hQtmTJURJZh8",
    "outputId": "21459280-d9eb-45f9-e2ff-288cf92fbe1b"
   },
   "outputs": [
    {
     "name": "stdout",
     "output_type": "stream",
     "text": [
      "(10000, 28, 28)\n",
      "(28, 28)\n",
      "(1, 28, 28)\n"
     ]
    }
   ],
   "source": [
    "print(test_digits_sc.shape)\n",
    "print(test_digits_sc[0].shape)\n",
    "print(np.expand_dims(test_digits_sc[0],axis=0).shape)"
   ]
  },
  {
   "cell_type": "code",
   "execution_count": 32,
   "metadata": {
    "colab": {
     "base_uri": "https://localhost:8080/",
     "height": 67
    },
    "colab_type": "code",
    "id": "IvLGkyHMJdNC",
    "outputId": "8ced9cd0-7588-447f-8842-cce394aa3e64"
   },
   "outputs": [
    {
     "data": {
      "text/plain": [
       "array([[2.7514475e-06, 4.1928951e-04, 6.7049958e-04, 1.2256163e-04,\n",
       "        2.3038367e-06, 2.0038083e-06, 7.7251183e-09, 9.9849474e-01,\n",
       "        5.9764363e-05, 2.2605546e-04]], dtype=float32)"
      ]
     },
     "execution_count": 32,
     "metadata": {},
     "output_type": "execute_result"
    }
   ],
   "source": [
    "model.predict(np.expand_dims(test_digits_sc[0],axis=0))"
   ]
  },
  {
   "cell_type": "code",
   "execution_count": 33,
   "metadata": {
    "colab": {
     "base_uri": "https://localhost:8080/",
     "height": 521
    },
    "colab_type": "code",
    "id": "TNNYypI4Jghk",
    "outputId": "6f9685f0-066c-4f9f-f447-a09a6488a329"
   },
   "outputs": [
    {
     "data": {
      "text/plain": [
       "array([[2.75144998e-06, 4.19289892e-04, 6.70499867e-04, 1.22561745e-04,\n",
       "        2.30383671e-06, 2.00381010e-06, 7.72511832e-09, 9.98494744e-01,\n",
       "        5.97644175e-05, 2.26055679e-04],\n",
       "       [1.12499015e-06, 8.73321060e-09, 9.99996662e-01, 1.67640633e-06,\n",
       "        1.05107798e-08, 1.66635648e-08, 2.43065532e-08, 2.28822998e-07,\n",
       "        2.49119495e-07, 5.85903244e-12],\n",
       "       [4.13018688e-06, 9.99803841e-01, 1.02992235e-05, 1.02263516e-06,\n",
       "        5.09338533e-05, 3.47620016e-07, 6.42783516e-06, 5.64959664e-05,\n",
       "        6.46591943e-05, 1.75598404e-06],\n",
       "       [9.99986291e-01, 3.69992176e-10, 2.56690464e-06, 6.25922425e-08,\n",
       "        6.08799979e-08, 3.01747264e-07, 9.22775780e-06, 6.81543755e-09,\n",
       "        5.41189024e-07, 7.00521070e-07],\n",
       "       [1.90575378e-09, 1.63081229e-08, 3.15041788e-08, 1.89552984e-10,\n",
       "        9.99982834e-01, 6.93407609e-10, 3.52319285e-10, 9.25613151e-08,\n",
       "        1.24239952e-08, 1.71008523e-05],\n",
       "       [2.55498975e-07, 9.99979496e-01, 2.52539394e-07, 6.70462725e-08,\n",
       "        3.41734199e-06, 7.91623744e-09, 1.01305716e-07, 1.30184480e-05,\n",
       "        3.04771334e-06, 2.74228029e-07],\n",
       "       [1.35186573e-08, 7.68492100e-07, 1.61805858e-07, 1.16889332e-09,\n",
       "        9.99960780e-01, 1.71408931e-08, 2.24501573e-08, 9.58849569e-07,\n",
       "        2.74606573e-05, 9.88585543e-06],\n",
       "       [5.73795387e-06, 6.27124336e-06, 9.56303666e-07, 1.71274514e-04,\n",
       "        2.51222635e-04, 8.29795954e-06, 2.57394355e-08, 2.16772914e-05,\n",
       "        4.06672589e-05, 9.99493837e-01],\n",
       "       [9.77694617e-06, 8.37385014e-05, 1.26493105e-04, 1.48936451e-04,\n",
       "        1.73671287e-04, 9.81160581e-01, 1.04128076e-02, 8.56665224e-07,\n",
       "        6.59517990e-03, 1.28801062e-03],\n",
       "       [1.47621779e-06, 1.68332408e-05, 3.82346542e-07, 1.12451664e-06,\n",
       "        3.44930440e-01, 4.72637765e-07, 2.07172377e-08, 4.69393235e-05,\n",
       "        2.56065287e-05, 6.54976606e-01]], dtype=float32)"
      ]
     },
     "execution_count": 33,
     "metadata": {},
     "output_type": "execute_result"
    }
   ],
   "source": [
    "model.predict(test_digits_sc[:10])"
   ]
  },
  {
   "cell_type": "code",
   "execution_count": 34,
   "metadata": {
    "colab": {
     "base_uri": "https://localhost:8080/",
     "height": 34
    },
    "colab_type": "code",
    "id": "8sCpCpVbJji0",
    "outputId": "264e614e-3566-48f3-f9b6-995da93c9319"
   },
   "outputs": [
    {
     "data": {
      "text/plain": [
       "array([7], dtype=int64)"
      ]
     },
     "execution_count": 34,
     "metadata": {},
     "output_type": "execute_result"
    }
   ],
   "source": [
    "model.predict_classes(np.expand_dims(test_digits_sc[0],axis=0))"
   ]
  },
  {
   "cell_type": "code",
   "execution_count": 35,
   "metadata": {
    "colab": {
     "base_uri": "https://localhost:8080/",
     "height": 67
    },
    "colab_type": "code",
    "id": "tHiNVqYYJmPU",
    "outputId": "64ffe4b7-54c9-4ae2-bc37-7a64db963061"
   },
   "outputs": [
    {
     "data": {
      "text/plain": [
       "array([[2.7514475e-06, 4.1928951e-04, 6.7049958e-04, 1.2256163e-04,\n",
       "        2.3038367e-06, 2.0038083e-06, 7.7251183e-09, 9.9849474e-01,\n",
       "        5.9764363e-05, 2.2605546e-04]], dtype=float32)"
      ]
     },
     "execution_count": 35,
     "metadata": {},
     "output_type": "execute_result"
    }
   ],
   "source": [
    "model.predict_proba(np.expand_dims(test_digits_sc[0],axis=0))"
   ]
  },
  {
   "cell_type": "code",
   "execution_count": 36,
   "metadata": {
    "colab": {
     "base_uri": "https://localhost:8080/",
     "height": 286
    },
    "colab_type": "code",
    "id": "g8NlieSlJpjI",
    "outputId": "dff26bc4-4ce1-412b-cfa1-1b83ee856e86"
   },
   "outputs": [
    {
     "data": {
      "text/plain": [
       "{'loss': [0.26028740406036377,\n",
       "  0.11231078952550888,\n",
       "  0.0817566066980362,\n",
       "  0.06365533918142319,\n",
       "  0.05256751924753189],\n",
       " 'accuracy': [0.9222777485847473,\n",
       "  0.9663518667221069,\n",
       "  0.9749259352684021,\n",
       "  0.9806666374206543,\n",
       "  0.9837592840194702],\n",
       " 'val_loss': [0.13976843655109406,\n",
       "  0.10638175159692764,\n",
       "  0.09628649801015854,\n",
       "  0.10409389436244965,\n",
       "  0.08268637955188751],\n",
       " 'val_accuracy': [0.9578333497047424,\n",
       "  0.9711666703224182,\n",
       "  0.971833348274231,\n",
       "  0.9714999794960022,\n",
       "  0.9775000214576721]}"
      ]
     },
     "execution_count": 36,
     "metadata": {},
     "output_type": "execute_result"
    }
   ],
   "source": [
    "history.history"
   ]
  },
  {
   "cell_type": "code",
   "execution_count": 37,
   "metadata": {
    "colab": {
     "base_uri": "https://localhost:8080/",
     "height": 282
    },
    "colab_type": "code",
    "id": "eDbr-93mJsXi",
    "outputId": "35803835-8f17-40b1-de43-d46372b89078"
   },
   "outputs": [
    {
     "data": {
      "text/plain": [
       "[<matplotlib.lines.Line2D at 0x247eb813808>]"
      ]
     },
     "execution_count": 37,
     "metadata": {},
     "output_type": "execute_result"
    },
    {
     "data": {
      "image/png": "[encoded data removed]",
      "text/plain": [
       "<Figure size 432x288 with 1 Axes>"
      ]
     },
     "metadata": {
      "needs_background": "light"
     },
     "output_type": "display_data"
    }
   ],
   "source": [
    "plt.plot(history.history['accuracy'])\n",
    "plt.plot(history.history['val_accuracy'])"
   ]
  }
 ],
 "metadata": {
  "colab": {
   "name": "Assignment(09-07-2020)",
   "provenance": []
  },
  "kernelspec": {
   "display_name": "Python 3",
   "language": "python",
   "name": "python3"
  },
  "language_info": {
   "codemirror_mode": {
    "name": "ipython",
    "version": 3
   },
   "file_extension": ".py",
   "mimetype": "text/x-python",
   "name": "python",
   "nbconvert_exporter": "python",
   "pygments_lexer": "ipython3",
   "version": "3.7.6"
  }
 },
 "nbformat": 4,
 "nbformat_minor": 1
}
