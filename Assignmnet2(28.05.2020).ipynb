{
 "cells": [
  {
   "cell_type": "code",
   "execution_count": 2,
   "metadata": {},
   "outputs": [
    {
     "name": "stdout",
     "output_type": "stream",
     "text": [
      "enter the string karthik123\n",
      "Vowels: 2\n",
      "Consonant: 5\n",
      "digit: 3\n",
      "Special Character: 0\n"
     ]
    }
   ],
   "source": [
    "# Accept a string from the user and count no.of vowels,consonants and special characters\n",
    "s=input(\"enter the string \")\n",
    "vow=0\n",
    "con=0\n",
    "spe=0\n",
    "dig=0\n",
    "for i in range (0,len(s)):\n",
    "    if ((s[i]>='a'and s[i]<='z')or(s[i]>='A'and s[i]<='Z')):\n",
    "        if(s[i]=='a' or s[i]=='e' or s[i]=='i' or s[i]=='o' or s[i]=='u' or s[i]=='A' or s[i]=='E' or s[i]=='I' or s[i]=='O' or s[i]=='U'):\n",
    "            vow=vow+1\n",
    "        else:\n",
    "            con=con+1\n",
    "    elif(s[i]>='0'and s[i]<='9'):\n",
    "        dig=dig+1\n",
    "    else:\n",
    "        spe=spe+1\n",
    "print(\"Vowels:\", vow) \n",
    "print(\"Consonant:\", con) \n",
    "print(\"digit:\", dig)\n",
    "print(\"Special Character:\", spe)"
   ]
  },
  {
   "cell_type": "code",
   "execution_count": 3,
   "metadata": {},
   "outputs": [
    {
     "name": "stdout",
     "output_type": "stream",
     "text": [
      "Enter a string:abbaaccbbaaa\n",
      "Pairs: 2\n"
     ]
    }
   ],
   "source": [
    "#count the no.of pairs of a in the given string(Infosys InfyTQ)\n",
    "#string →  \"abbaaccbbaaa\"\n",
    "#output →  2\n",
    "\n",
    "a=input('Enter a string:').lower()\n",
    "p=0\n",
    "c=0\n",
    "for i in a:\n",
    "    if i=='a' and c==0:\n",
    "        c=1\n",
    "    elif i=='a' and c==1:\n",
    "        c=0\n",
    "        p=p+1\n",
    "    else:\n",
    "        c=0\n",
    "print(\"Pairs:\",p)"
   ]
  },
  {
   "cell_type": "code",
   "execution_count": 4,
   "metadata": {},
   "outputs": [
    {
     "name": "stdout",
     "output_type": "stream",
     "text": [
      "enter the brackets sequence((((()()()))))()\n",
      "8\n"
     ]
    }
   ],
   "source": [
    "#Test case1:\n",
    "#string →  \"((((()()()))))()\"\n",
    "#output →  8\n",
    "\n",
    "s1=input(\"enter the brackets sequence\")\n",
    "ope=0\n",
    "clo=0\n",
    "for i in range (0,len(s1)):\n",
    "    if s1[i]==\"(\":\n",
    "        ope = ope+1\n",
    "    else:\n",
    "        clo = clo+1\n",
    "if(ope==clo):\n",
    "    print(ope)"
   ]
  },
  {
   "cell_type": "code",
   "execution_count": 5,
   "metadata": {},
   "outputs": [
    {
     "name": "stdout",
     "output_type": "stream",
     "text": [
      "enter the start limit1\n",
      "enter the end limit100\n",
      "18\n"
     ]
    }
   ],
   "source": [
    "#Read the input as two limits and Print the output as Palindrome count between the two limits\n",
    "def isPalindrome(n: int) -> bool: \n",
    "    rev = 0\n",
    "    i = n \n",
    "    while i > 0: \n",
    "        rev = rev * 10 + i % 10\n",
    "        i //= 10 \n",
    "    return (n == rev) \n",
    "\n",
    "def countPal(minn: int, maxx: int) -> None: \n",
    "    c=0\n",
    "    for i in range(minn, maxx + 1): \n",
    "        if isPalindrome(i): \n",
    "            c+=1 \n",
    "    print(c)\n",
    "x=int(input(\"enter the start limit\"))\n",
    "y=int(input(\"enter the end limit\"))\n",
    "countPal(x,y)"
   ]
  },
  {
   "cell_type": "code",
   "execution_count": 6,
   "metadata": {},
   "outputs": [
    {
     "name": "stdout",
     "output_type": "stream",
     "text": [
      "Enter number:127\n",
      "848\n"
     ]
    }
   ],
   "source": [
    "#Accept a number as an input and check whether the given number is palindrome or not\n",
    "n=int(input(\"Enter number:\"))\n",
    "temp=n\n",
    "rev=0\n",
    "while(n>0):\n",
    "    dig=n%10\n",
    "    rev=rev*10+dig\n",
    "    n=n//10\n",
    "if(temp==rev):\n",
    "    print(temp)\n",
    "else:\n",
    "    print(temp+rev)"
   ]
  },
  {
   "cell_type": "code",
   "execution_count": 5,
   "metadata": {},
   "outputs": [
    {
     "name": "stdout",
     "output_type": "stream",
     "text": [
      "enter the stringorange\n",
      "puboif"
     ]
    }
   ],
   "source": [
    "\n",
    "s=input(\"enter the string\")\n",
    "s1=0\n",
    "vowel=['a','e','i','o','u']\n",
    "for i in s:\n",
    "    if i in vowel:\n",
    "        print(chr(ord(i)+1),end=\"\")\n",
    "    elif(ord(i)>65 and ord(i)<69)or(ord(i)>97 and ord(i)<101):\n",
    "        print(\"e\",end=\"\")\n",
    "    elif(ord(i)>69 and ord(i)<73)or(ord(i)>101 and ord(i)<105):\n",
    "        print(\"i\",end=\"\")\n",
    "    elif(ord(i)>73 and ord(i)<79)or(ord(i)>105 and ord(i)<111):\n",
    "        print(\"o\",end=\"\")\n",
    "    elif(ord(i)>79 and ord(i)<85)or(ord(i)>111 and ord(i)<117):\n",
    "        print(\"u\",end=\"\")\n",
    "    elif(ord(i)>85 and ord(i)<90)or(ord(i)>117 and ord(i)<122):\n",
    "        print(\"a\",end=\"\")\n",
    "    "
   ]
  },
  {
   "cell_type": "code",
   "execution_count": 7,
   "metadata": {},
   "outputs": [
    {
     "name": "stdout",
     "output_type": "stream",
     "text": [
      "enter a stringAppli123cation456 \n",
      "21\n"
     ]
    }
   ],
   "source": [
    "#Accept input as a string and display sum of digits as the output \n",
    "def sum_digits_string(str1):\n",
    "    sum_digit = 0\n",
    "    for x in str1:\n",
    "        if x.isdigit() == True:\n",
    "            z = int(x)\n",
    "            sum_digit = sum_digit + z\n",
    "\n",
    "    return sum_digit\n",
    "     \n",
    "print(sum_digits_string(input(\"enter a string\")))"
   ]
  },
  {
   "cell_type": "code",
   "execution_count": 8,
   "metadata": {},
   "outputs": [
    {
     "name": "stdout",
     "output_type": "stream",
     "text": [
      "Enter Score0.85\n",
      "B\n"
     ]
    }
   ],
   "source": [
    "#Write a program to prompt for a score between 0.0 and 1.0. If the score is out of range, print an error. If the score is between 0.0 and 1.0, print a grade using the following table:\n",
    "score=input(\"Enter Score\")\n",
    "s=float(score)\n",
    "if s>1.0:\n",
    "    print(\"Error\")\n",
    "elif s>=0.9:\n",
    "    print(\"A\")\n",
    "elif s>=0.8:\n",
    "    print(\"B\")\n",
    "elif s>=0.7:\n",
    "    print(\"C\")\n",
    "elif s>=0.6:\n",
    "    print(\"d\")\n",
    "else:\n",
    "    print(\"F\")"
   ]
  },
  {
   "cell_type": "code",
   "execution_count": 11,
   "metadata": {},
   "outputs": [
    {
     "name": "stdout",
     "output_type": "stream",
     "text": [
      "fizzbuzz\n",
      "1\n",
      "2\n",
      "fizz\n",
      "4\n",
      "buzz\n",
      "fizz\n",
      "7\n",
      "8\n",
      "fizz\n",
      "buzz\n",
      "11\n",
      "fizz\n",
      "13\n",
      "14\n",
      "fizzbuzz\n",
      "16\n",
      "17\n",
      "fizz\n",
      "19\n",
      "buzz\n",
      "fizz\n",
      "22\n",
      "23\n",
      "fizz\n",
      "buzz\n",
      "26\n",
      "fizz\n",
      "28\n",
      "29\n",
      "fizzbuzz\n",
      "31\n",
      "32\n",
      "fizz\n",
      "34\n",
      "buzz\n",
      "fizz\n",
      "37\n",
      "38\n",
      "fizz\n",
      "buzz\n",
      "41\n",
      "fizz\n",
      "43\n",
      "44\n",
      "fizzbuzz\n",
      "46\n",
      "47\n",
      "fizz\n",
      "49\n",
      "buzz\n"
     ]
    }
   ],
   "source": [
    "#fizzbuzz\n",
    "for fizzbuzz in range(51):\n",
    "    if( fizzbuzz %3==0 and fizzbuzz %5==0):\n",
    "        print(\"fizzbuzz\")\n",
    "        continue\n",
    "    elif fizzbuzz %3==0:\n",
    "        print(\"fizz\")\n",
    "        continue\n",
    "    elif fizzbuzz %5==0:\n",
    "        print(\"buzz\")\n",
    "        continue\n",
    "    print(fizzbuzz)"
   ]
  },
  {
   "cell_type": "code",
   "execution_count": 12,
   "metadata": {},
   "outputs": [
    {
     "name": "stdout",
     "output_type": "stream",
     "text": [
      "Input the first number26\n",
      "Input the second number15\n",
      "Input the third number29\n",
      "Median of the above three numbers -\n",
      "26\n"
     ]
    }
   ],
   "source": [
    "#Write a Python program to find the median of three values.\n",
    "x = input(\"Input the first number\")\n",
    "y = input(\"Input the second number\")\n",
    "z = input(\"Input the third number\")\n",
    "print(\"Median of the above three numbers -\")\n",
    "\n",
    "if y < x and x < z:\n",
    "    print(x)\n",
    "elif z < x and x < y:\n",
    "    print(x)\n",
    "    \n",
    "elif z < y and y < x:\n",
    "    print(y)\n",
    "elif x < y and y < z:\n",
    "    print(y)\n",
    "    \n",
    "elif y < z and z < x:\n",
    "    print(z)    \n",
    "elif x < z and z < y:\n",
    "    print(z)"
   ]
  }
 ],
 "metadata": {
  "kernelspec": {
   "display_name": "Python 3",
   "language": "python",
   "name": "python3"
  },
  "language_info": {
   "codemirror_mode": {
    "name": "ipython",
    "version": 3
   },
   "file_extension": ".py",
   "mimetype": "text/x-python",
   "name": "python",
   "nbconvert_exporter": "python",
   "pygments_lexer": "ipython3",
   "version": "3.7.6"
  }
 },
 "nbformat": 4,
 "nbformat_minor": 4
}
