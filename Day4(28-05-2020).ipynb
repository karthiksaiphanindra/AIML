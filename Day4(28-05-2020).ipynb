{
 "cells": [
  {
   "cell_type": "markdown",
   "metadata": {},
   "source": [
    "### Strings:\n",
    "1. \"\"or''to represnet strings \n",
    "2. strings are immutable\n",
    "3. collection of chars enclosed by \"\" or''"
   ]
  },
  {
   "cell_type": "code",
   "execution_count": 2,
   "metadata": {},
   "outputs": [
    {
     "name": "stdout",
     "output_type": "stream",
     "text": [
      "Hello21\n",
      "<class 'str'> <class 'str'>\n"
     ]
    }
   ],
   "source": [
    "s1 = input('Hello')\n",
    "s2 = \"Goodafternoon\"\n",
    "print(type(s1),type(s2))"
   ]
  },
  {
   "cell_type": "code",
   "execution_count": 3,
   "metadata": {},
   "outputs": [
    {
     "name": "stdout",
     "output_type": "stream",
     "text": [
      "21Goodafternoon\n",
      "212121 GoodafternoonGoodafternoonGoodafternoonGoodafternoon\n",
      "f\n",
      "fter\n",
      "Goodafternoon\n"
     ]
    }
   ],
   "source": [
    "#operators supported by strings : +,*(repetation),[](slice),[:](slice range)\n",
    "print(s1+s2)#concatination\n",
    "print(s1*3,s2*4)#Repetation\n",
    "print(s2[5])#slicing\n",
    "print(s2[5:9])#slice range\n",
    "print(s2[:])#start=0,stop=length of the string,step=1 "
   ]
  },
  {
   "cell_type": "code",
   "execution_count": 22,
   "metadata": {},
   "outputs": [
    {
     "name": "stdout",
     "output_type": "stream",
     "text": [
      "Good afternoon\n",
      "Good afternoon\n"
     ]
    }
   ],
   "source": [
    "print(s2[0:14])\n",
    "print(s2[:])"
   ]
  },
  {
   "cell_type": "code",
   "execution_count": 25,
   "metadata": {},
   "outputs": [
    {
     "name": "stdout",
     "output_type": "stream",
     "text": [
      "Go feno\n"
     ]
    }
   ],
   "source": [
    "#alternate character\n",
    "print(s2[::2])"
   ]
  },
  {
   "cell_type": "code",
   "execution_count": 31,
   "metadata": {},
   "outputs": [
    {
     "name": "stdout",
     "output_type": "stream",
     "text": [
      "enter the stringmaam\n",
      "the sring is palindrome\n"
     ]
    }
   ],
   "source": [
    "#rAccept a string from the user and check if its palindrome or not\n",
    "s3=input('enter the string')\n",
    "if s3==s3[::-1]:\n",
    "    print(\"the sring is palindrome\")\n",
    "else:\n",
    "    print(\"the given string is not palindrome\")\n"
   ]
  },
  {
   "cell_type": "code",
   "execution_count": 33,
   "metadata": {},
   "outputs": [
    {
     "name": "stdout",
     "output_type": "stream",
     "text": [
      "enter the number1234\n",
      "not a plaindrome\n"
     ]
    }
   ],
   "source": [
    "#to see anumber is a palindrome or not\n",
    "n=int(input(\"enter the number\"))\n",
    "if str(n)==str(n)[::-1] :#convert any data type to sring\n",
    "    print(\"palindrome\")\n",
    "else:\n",
    "    print(\"not a plaindrome\")"
   ]
  },
  {
   "cell_type": "code",
   "execution_count": 40,
   "metadata": {},
   "outputs": [
    {
     "name": "stdout",
     "output_type": "stream",
     "text": [
      "True\n",
      "False\n",
      "False\n",
      "True\n",
      "False\n"
     ]
    }
   ],
   "source": [
    "#to see the substring is present in the sring \n",
    "s4 = \"python\"\n",
    "print(\"on\"in s4)\n",
    "print(\"on\"not in s4)#flase\n",
    "print(\"xy\"in s4)\n",
    "print(\"xy\" not in s4)#true\n",
    "print(\"pn\"in s4)#flase"
   ]
  },
  {
   "cell_type": "markdown",
   "metadata": {},
   "source": [
    "### Built-in Fucntions:\n",
    "1. len() (lenth of the string)\n",
    "2. max()\n",
    "3. min()\n",
    "4. str() (convert any data type to string )"
   ]
  },
  {
   "cell_type": "code",
   "execution_count": 43,
   "metadata": {},
   "outputs": [
    {
     "name": "stdout",
     "output_type": "stream",
     "text": [
      "5\n",
      "o\n",
      "e\n",
      "t\n",
      "G\n"
     ]
    }
   ],
   "source": [
    "s=\"hello\"\n",
    "print(len(s))\n",
    "print(max(s))\n",
    "print(min(s))\n",
    "print(max(s2))\n",
    "print(min(s2))"
   ]
  },
  {
   "cell_type": "code",
   "execution_count": 44,
   "metadata": {},
   "outputs": [
    {
     "data": {
      "text/plain": [
       "97"
      ]
     },
     "execution_count": 44,
     "metadata": {},
     "output_type": "execute_result"
    }
   ],
   "source": [
    "#ascii value of the character\n",
    "ord(\"a\")"
   ]
  },
  {
   "cell_type": "code",
   "execution_count": 46,
   "metadata": {},
   "outputs": [
    {
     "data": {
      "text/plain": [
       "'a'"
      ]
     },
     "execution_count": 46,
     "metadata": {},
     "output_type": "execute_result"
    }
   ],
   "source": [
    "#to find the ascii value of the corresponding character\n",
    "chr(97)"
   ]
  },
  {
   "cell_type": "markdown",
   "metadata": {},
   "source": [
    "### built-in-methods:\n",
    "1. capitalize() -> (converts the first chat to upper case)\n",
    "2. isalpha() -> (to see if its alphabets)\n",
    "3. isdigit() ->(to see if its digits)\n",
    "4. isalnum() ->(to see if its alphabets or numerics)\n",
    "5. isupper() ->(to see if its in upper case)\n",
    "6. islower() ->(to see if its in lower case)\n",
    "7. upper() ->(to convert to upper case)\n",
    "8. lower()->(to convert to lower case)\n",
    "9. swapcase() ->(to convert to the other case)\n",
    "10. help(\"str\") -> (description of str class)\n",
    "11. count(\"\") ->(to count the sub string metioned in \" \")\n",
    "12. split()\n",
    "13. replace(\"1\",\"2\") ->(it replaces the 1 with 2)"
   ]
  },
  {
   "cell_type": "code",
   "execution_count": 49,
   "metadata": {},
   "outputs": [
    {
     "name": "stdout",
     "output_type": "stream",
     "text": [
      "5\n",
      "Hello\n",
      "Hello\n"
     ]
    }
   ],
   "source": [
    "s=\"hello\"\n",
    "print(len(s))#fucntion calling -> fucntion name(object name)\n",
    "print(s.capitalize())#method calling -> object name.method name(0) the original stings are not chaged\n",
    "#to change the string \n",
    "s=s.capitalize()\n",
    "print(s)"
   ]
  },
  {
   "cell_type": "code",
   "execution_count": 54,
   "metadata": {},
   "outputs": [
    {
     "name": "stdout",
     "output_type": "stream",
     "text": [
      "True\n",
      "True\n",
      "True\n",
      "True\n",
      "False\n"
     ]
    }
   ],
   "source": [
    "s1=\"hello\"\n",
    "s2=\"abcd123\"\n",
    "s3=\"123456\"\n",
    "print(s1.isalpha())\n",
    "print(s3.isdigit())\n",
    "print(s2.isalnum())\n",
    "print(s3.isalnum())\n",
    "print(s3.isalpha())"
   ]
  },
  {
   "cell_type": "code",
   "execution_count": 56,
   "metadata": {},
   "outputs": [
    {
     "name": "stdout",
     "output_type": "stream",
     "text": [
      "True\n",
      "False\n",
      "False\n",
      "True\n",
      "hello\n",
      "HELLO\n"
     ]
    }
   ],
   "source": [
    "s1=\"HELLO\"\n",
    "s2=\"hello\"\n",
    "print(s1.isupper())\n",
    "print(s2.isupper())\n",
    "print(s1.islower())\n",
    "print(s2.islower())\n",
    "print(s1.lower())\n",
    "print(s2.upper())\n",
    "print(s1.swapcase())"
   ]
  },
  {
   "cell_type": "code",
   "execution_count": 2,
   "metadata": {},
   "outputs": [
    {
     "name": "stdout",
     "output_type": "stream",
     "text": [
      "3\n"
     ]
    }
   ],
   "source": [
    "s1=\"abc abc abc\"\n",
    "print(s1.count(\"abc\"))#frequency of the giver substream"
   ]
  },
  {
   "cell_type": "code",
   "execution_count": 5,
   "metadata": {},
   "outputs": [
    {
     "name": "stdout",
     "output_type": "stream",
     "text": [
      "['abc', 'abc', 'abc']\n",
      "['a', 'b', 'c', 'd', 'e']\n"
     ]
    }
   ],
   "source": [
    "#slpit()-->retunr type is list\n",
    "print(s1.split())#if nothing is mentionedin the brackets it takes space as a perimeter\n",
    "s2=\"a,b,c,d,e\"\n",
    "print(s2.split(\",\"))"
   ]
  },
  {
   "cell_type": "code",
   "execution_count": 6,
   "metadata": {},
   "outputs": [
    {
     "name": "stdout",
     "output_type": "stream",
     "text": [
      "abc\n",
      "azc\n"
     ]
    }
   ],
   "source": [
    "s=\"abc\"\n",
    "#s.replace(\"b\",\"z\")\n",
    "print(s)\n",
    "s=s.replace(\"b\",\"z\")\n",
    "print(s)"
   ]
  },
  {
   "cell_type": "code",
   "execution_count": 9,
   "metadata": {},
   "outputs": [
    {
     "name": "stdout",
     "output_type": "stream",
     "text": [
      "abcabcabc\n",
      "ababcabc\n"
     ]
    }
   ],
   "source": [
    "#accept a number from user and remove nth position char from the string\n",
    "n=3\n",
    "s=\"abcabcabc\"\n",
    "i=0\n",
    "print(s)\n",
    "s=s.replace(s[n-1],\"\",1)#replace(,,a) where a is the nth occurance\n",
    "i=i+1    \n",
    "print(s)\n"
   ]
  },
  {
   "cell_type": "markdown",
   "metadata": {},
   "source": [
    "###for loop:\n",
    "1. for loop with range() fucntion\n",
    "2. for loop with iterable object\n",
    "\n",
    "Syntax :- ``` for variable-name in range(start,stop,step):``` "
   ]
  },
  {
   "cell_type": "code",
   "execution_count": 30,
   "metadata": {},
   "outputs": [
    {
     "name": "stdout",
     "output_type": "stream",
     "text": [
      "1 2 3 4 5 6 7 8 9 10 \n",
      "1 2 3 4 5 6 7 8 9 10 "
     ]
    }
   ],
   "source": [
    "#print n numbers on the screen\n",
    "n = 10\n",
    "for i in range(1,n+1):# to consider nth value we use n+1\n",
    "    print(i,end=\" \")\n",
    "    \n",
    "print()\n",
    "\n",
    "i = 1\n",
    "while i<=n:\n",
    "        print(i,end=\" \")\n",
    "        i = i+1"
   ]
  },
  {
   "cell_type": "markdown",
   "metadata": {},
   "source": [
    "```for variable in iterable obj:```"
   ]
  },
  {
   "cell_type": "code",
   "execution_count": 3,
   "metadata": {},
   "outputs": [
    {
     "name": "stdout",
     "output_type": "stream",
     "text": [
      "p\n",
      "y\n",
      "t\n",
      "h\n",
      "o\n",
      "n\n"
     ]
    }
   ],
   "source": [
    "s='python'\n",
    "i=0\n",
    "for i in s:\n",
    "    print(i)"
   ]
  },
  {
   "cell_type": "code",
   "execution_count": 43,
   "metadata": {},
   "outputs": [
    {
     "name": "stdout",
     "output_type": "stream",
     "text": [
      "p\n",
      "y\n",
      "t\n",
      "h\n",
      "o\n",
      "n\n"
     ]
    }
   ],
   "source": [
    "n= len(s)\n",
    "i=0\n",
    "while i < n:\n",
    "    print(s[i])\n",
    "    i=i+1"
   ]
  },
  {
   "cell_type": "code",
   "execution_count": 47,
   "metadata": {},
   "outputs": [
    {
     "name": "stdout",
     "output_type": "stream",
     "text": [
      "p\n",
      "y\n",
      "t\n",
      "h\n",
      "o\n",
      "n\n"
     ]
    }
   ],
   "source": [
    "n=len(s)\n",
    "for i in range (0,n):\n",
    "    print(s[i])"
   ]
  }
 ],
 "metadata": {
  "kernelspec": {
   "display_name": "Python 3",
   "language": "python",
   "name": "python3"
  },
  "language_info": {
   "codemirror_mode": {
    "name": "ipython",
    "version": 3
   },
   "file_extension": ".py",
   "mimetype": "text/x-python",
   "name": "python",
   "nbconvert_exporter": "python",
   "pygments_lexer": "ipython3",
   "version": "3.7.6"
  }
 },
 "nbformat": 4,
 "nbformat_minor": 4
}
