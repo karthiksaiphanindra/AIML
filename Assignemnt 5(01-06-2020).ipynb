{
 "cells": [
  {
   "cell_type": "markdown",
   "metadata": {},
   "source": [
    "# ECE-221710405015-M.karthik"
   ]
  },
  {
   "cell_type": "markdown",
   "metadata": {},
   "source": [
    "### Password Picker \n",
    "1. consisting of verb\n",
    "2. noun \n",
    "3. digit\n",
    "4. special character\n",
    "5. password=verb+noun+digit+specal character\n",
    "6. yes to get new password\n",
    "7. no use the printed password"
   ]
  },
  {
   "cell_type": "code",
   "execution_count": 1,
   "metadata": {},
   "outputs": [
    {
     "name": "stdout",
     "output_type": "stream",
     "text": [
      "fishingtractor15.\n",
      "enter yes or no for new passwordyes\n",
      "watchingroad81:\n",
      "enter yes or no for new passwordno\n",
      "This is your desired password  watchingroad81:\n"
     ]
    }
   ],
   "source": [
    "import random\n",
    "import string\n",
    "while True:\n",
    "    s1 = random.choice(string.punctuation)\n",
    "    s2 = str(random.randint(0,100))\n",
    "    verbs = [\"eating\",\"singing\",\"dancing\",\"walking\",\"running\",\"playing\",\"surfing\",\"climbing\",\"watching\",\"fishing\"]\n",
    "    s3 = random.choice(verbs)\n",
    "    noun = [\"forest\",\"mountains\",\"valley\",\"eye\",\"tractor\",\"sea\",\"ocean\",\"earth\",\"fish\",\"road\"]\n",
    "    s4 = random.choice(noun)\n",
    "    print(s3+s4+s2+s1)\n",
    "    p1 = input(\"enter yes or no for new password\")\n",
    "    if p1 == \"no\" or p1 == \"NO\":\n",
    "        print(\"This is your desired password \", s3+s4+s2+s1)\n",
    "        break\n",
    "    elif p1 == \"YES\" or p1 == \"yes\":\n",
    "        continue"
   ]
  }
 ],
 "metadata": {
  "kernelspec": {
   "display_name": "Python 3",
   "language": "python",
   "name": "python3"
  },
  "language_info": {
   "codemirror_mode": {
    "name": "ipython",
    "version": 3
   },
   "file_extension": ".py",
   "mimetype": "text/x-python",
   "name": "python",
   "nbconvert_exporter": "python",
   "pygments_lexer": "ipython3",
   "version": "3.7.6"
  }
 },
 "nbformat": 4,
 "nbformat_minor": 4
}
