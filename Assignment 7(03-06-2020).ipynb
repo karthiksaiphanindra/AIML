{
 "cells": [
  {
   "cell_type": "markdown",
   "metadata": {},
   "source": [
    "# ECE-221710405015-M.karthik"
   ]
  },
  {
   "cell_type": "code",
   "execution_count": 1,
   "metadata": {},
   "outputs": [],
   "source": [
    "#1creating a file\n",
    "import s\n",
    "f=open(\"file2\",\"a\")\n",
    "data=(\"hi hello i am learning python \")\n",
    "f.write(data)\n",
    "f.close()"
   ]
  },
  {
   "cell_type": "code",
   "execution_count": 3,
   "metadata": {},
   "outputs": [
    {
     "name": "stdout",
     "output_type": "stream",
     "text": [
      "hi hello i am learning python \n"
     ]
    }
   ],
   "source": [
    "#1 opening file \n",
    "f=open(\"file2\",\"r\")\n",
    "data=f.read()\n",
    "print(data)\n",
    "f.close()"
   ]
  },
  {
   "cell_type": "code",
   "execution_count": 4,
   "metadata": {},
   "outputs": [],
   "source": [
    "#1 compying contents it another file \n",
    "f=open(\"file3\",\"w\")\n",
    "f.write(data[::-1])\n",
    "f.close()"
   ]
  },
  {
   "cell_type": "code",
   "execution_count": 5,
   "metadata": {},
   "outputs": [
    {
     "name": "stdout",
     "output_type": "stream",
     "text": [
      " nohtyp gninrael ma i olleh ih\n"
     ]
    }
   ],
   "source": [
    "#1\n",
    "f=open(\"file3\",\"r\")\n",
    "data=f.read()\n",
    "print(data)\n",
    "f.close()"
   ]
  },
  {
   "cell_type": "code",
   "execution_count": 27,
   "metadata": {},
   "outputs": [
    {
     "name": "stdout",
     "output_type": "stream",
     "text": [
      "Contents of file in order:\n",
      "1 HI\n",
      "2 I am\n",
      "3 currently\n",
      "4 doing\n",
      "5 internship\n",
      "6 in AI and ML\n"
     ]
    }
   ],
   "source": [
    "#2\n",
    "List1 = [\"HI\\n\",\"I am\\n\",\"currently\\n\",\"doing\\n\",\"internship\\n\",\"in AI and ML\\n\"]\n",
    "\n",
    "f1 = open(\"myfile\", \"w\") \n",
    "f1.writelines(List1) \n",
    "f1.close()\n",
    "\n",
    "f1 = open(\"myfile\", \"r\") \n",
    "count = 0\n",
    "\n",
    "print(\"Contents of file in order:\") \n",
    "for line in f1: \n",
    "    count += 1\n",
    "    print(\"{} {}\".format(count, line.strip()))\n",
    "    \n",
    "f1.close()"
   ]
  },
  {
   "cell_type": "code",
   "execution_count": 11,
   "metadata": {},
   "outputs": [
    {
     "name": "stdout",
     "output_type": "stream",
     "text": [
      "Enter string of duplicates or not122345\n",
      "True\n",
      "['1', '2', '3', '4', '5']\n"
     ]
    }
   ],
   "source": [
    "# 3\n",
    "def Remove(list1): \n",
    "    final_list = [] \n",
    "    for num in list1: \n",
    "        if num not in final_list: \n",
    "            final_list.append(num) \n",
    "    return final_list \n",
    "      \n",
    "\n",
    "def Duplicates(list1):\n",
    "    if len(list1) == len(set(list1)):\n",
    "        return False\n",
    "    else:\n",
    "        return True\n",
    "st=(input(\"Enter string of duplicates or not\"))\n",
    "list1=list(st)    \n",
    "result=Duplicates(list1)\n",
    "print(result)\n",
    "print(Remove(list1))"
   ]
  },
  {
   "cell_type": "code",
   "execution_count": 3,
   "metadata": {},
   "outputs": [
    {
     "name": "stdout",
     "output_type": "stream",
     "text": [
      "1.3333333333333333\n",
      "0.4444444444444444\n",
      "0.16666666666666663\n"
     ]
    }
   ],
   "source": [
    "# 4\n",
    "import fraction as fr\n",
    "print(fr.add_fraction(2/3,4/6))\n",
    "print(fr.mul_fraction(2/3,4/6))\n",
    "print(fr.sub_fraction(2/3,1/2))"
   ]
  },
  {
   "cell_type": "code",
   "execution_count": 2,
   "metadata": {},
   "outputs": [
    {
     "name": "stdout",
     "output_type": "stream",
     "text": [
      "enter the list1123\n",
      "enter the list2321\n",
      "False\n"
     ]
    }
   ],
   "source": [
    "# 5 \n",
    "from itertools import *\n",
    "def isPermutation(list1,list2):\n",
    "    p=list(permutations(list1))\n",
    "    return tuple(list2) in p\n",
    "        \n",
    "list1=list(map(int,input(\"enter the list1\").split()))\n",
    "list2=list(map(int,input(\"enter the list2\").split()))\n",
    "print(Permutation(list1,list2))"
   ]
  }
 ],
 "metadata": {
  "kernelspec": {
   "display_name": "Python 3",
   "language": "python",
   "name": "python3"
  },
  "language_info": {
   "codemirror_mode": {
    "name": "ipython",
    "version": 3
   },
   "file_extension": ".py",
   "mimetype": "text/x-python",
   "name": "python",
   "nbconvert_exporter": "python",
   "pygments_lexer": "ipython3",
   "version": "3.7.6"
  }
 },
 "nbformat": 4,
 "nbformat_minor": 4
}
