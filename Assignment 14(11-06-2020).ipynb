{
 "cells": [
  {
   "cell_type": "markdown",
   "metadata": {},
   "source": [
    "# ECE-221710405015-M.Karthik"
   ]
  },
  {
   "cell_type": "code",
   "execution_count": 4,
   "metadata": {},
   "outputs": [
    {
     "name": "stdout",
     "output_type": "stream",
     "text": [
      "4\n",
      "a\n",
      "ab\n",
      "abc\n",
      "aaa\n",
      "YES\n",
      "YES\n",
      "NO\n",
      "YES\n"
     ]
    }
   ],
   "source": [
    "# 1 \n",
    "def L(x):\n",
    "    return x[1:]+x[0]\n",
    "\n",
    "def R(x):\n",
    "    return x[-1]+x[:len(x)-1]\n",
    "\n",
    "n=int(input())\n",
    "s=[input() for i in range(n)]\n",
    "for x in s:\n",
    "    print(\"YES\") if L(x)==R(x) else print(\"NO\")"
   ]
  },
  {
   "cell_type": "code",
   "execution_count": 6,
   "metadata": {},
   "outputs": [
    {
     "name": "stdout",
     "output_type": "stream",
     "text": [
      "20 23 3\n",
      "3\n"
     ]
    }
   ],
   "source": [
    "# 2\n",
    "def rev(n):\n",
    "    r=0\n",
    "    while(n>0):\n",
    "        r=r*10+n%10\n",
    "        n=n//10\n",
    "    return r\n",
    "s=input().split()\n",
    "cou=0\n",
    "s=[int(i) for i in s]\n",
    "for i in range(s[0],s[1]):\n",
    "    if (abs(i-rev(i)))%s[2]==0:\n",
    "        cou+=1\n",
    "\n",
    "print(cou)"
   ]
  },
  {
   "cell_type": "code",
   "execution_count": 1,
   "metadata": {},
   "outputs": [
    {
     "name": "stdout",
     "output_type": "stream",
     "text": [
      "4\n",
      "3 1 2 3\n",
      "2\n"
     ]
    }
   ],
   "source": [
    "# 3\n",
    "n=int(input())\n",
    "ca=input().split()\n",
    "ca=[int(ca[i]) for i in range(n)]\n",
    "ma=max(ca)\n",
    "print(ca.count(ma))"
   ]
  },
  {
   "cell_type": "code",
   "execution_count": 17,
   "metadata": {},
   "outputs": [
    {
     "name": "stdout",
     "output_type": "stream",
     "text": [
      "5,1,5,2\n",
      "5521,12\n"
     ]
    }
   ],
   "source": [
    "# 4\n",
    "import math as m\n",
    "n=input().split(\",\")\n",
    "n.sort()\n",
    "a=''.join(n[::-1])\n",
    "n=[int(i) for i in n]\n",
    "his=dict()\n",
    "for i in n:\n",
    "    his[i]=his.get(i,0)+1\n",
    "p=m.factorial(len(n))\n",
    "k=1\n",
    "for i in his.values():\n",
    "    k*=m.factorial(i)\n",
    "print(a+\",\"+str(p//k))"
   ]
  },
  {
   "cell_type": "code",
   "execution_count": 18,
   "metadata": {},
   "outputs": [
    {
     "name": "stdout",
     "output_type": "stream",
     "text": [
      "124\n",
      "545\n"
     ]
    }
   ],
   "source": [
    "# 5\n",
    "def rev(n):\n",
    "    r=0\n",
    "    while(n>0):\n",
    "        r=r*10+n%10\n",
    "        n=n//10\n",
    "    return r\n",
    "\n",
    "n=int(input())\n",
    "while True:\n",
    "    r=rev(n)\n",
    "    if n==r:\n",
    "        print(n)\n",
    "        break\n",
    "    else:\n",
    "        n=n+r"
   ]
  },
  {
   "cell_type": "code",
   "execution_count": 7,
   "metadata": {},
   "outputs": [
    {
     "name": "stdout",
     "output_type": "stream",
     "text": [
      "2\n",
      "5 3\n",
      "2 4 2 4 2\n",
      "output:\n",
      " 5 \n",
      "\n",
      "8 3\n",
      "9 3 5 7 8 11 17 2\n",
      "output:\n",
      " 2 \n",
      "\n"
     ]
    }
   ],
   "source": [
    "#6\n",
    "t=int(input())\n",
    "while(t>0):\n",
    "    n,k=map(int,input().split())\n",
    "    a=list(map(int,input().split()))\n",
    "    gre=0\n",
    "    l=0\n",
    "    pos=-1\n",
    "    long=0\n",
    "    for i in range(n):\n",
    "        if a[i]>k and gre!=0 and a[i]!=gre:\n",
    "            gre = a[i]\n",
    "            if long<l:\n",
    "                long=l\n",
    "            l = i - pos\n",
    "            pos=i\n",
    "            continue\n",
    "        elif a[i]>k:\n",
    "            gre = a[i]\n",
    "            pos=i\n",
    "        l+=1\n",
    "    if long<l:\n",
    "        long=l\n",
    "    t-=1\n",
    "    print(\"output:\\n\",long,\"\\n\")"
   ]
  },
  {
   "cell_type": "code",
   "execution_count": null,
   "metadata": {},
   "outputs": [],
   "source": []
  }
 ],
 "metadata": {
  "kernelspec": {
   "display_name": "Python 3",
   "language": "python",
   "name": "python3"
  },
  "language_info": {
   "codemirror_mode": {
    "name": "ipython",
    "version": 3
   },
   "file_extension": ".py",
   "mimetype": "text/x-python",
   "name": "python",
   "nbconvert_exporter": "python",
   "pygments_lexer": "ipython3",
   "version": "3.7.6"
  }
 },
 "nbformat": 4,
 "nbformat_minor": 4
}
