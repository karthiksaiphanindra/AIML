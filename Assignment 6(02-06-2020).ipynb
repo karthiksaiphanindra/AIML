{
 "cells": [
  {
   "cell_type": "markdown",
   "metadata": {},
   "source": [
    "# ECE-221710405015-M.Karthik"
   ]
  },
  {
   "cell_type": "code",
   "execution_count": 1,
   "metadata": {},
   "outputs": [
    {
     "name": "stdout",
     "output_type": "stream",
     "text": [
      "['?', '?', '?', '?', '?']\n",
      "lives left: LIVES LIVES LIVES LIVES LIVES LIVES LIVES LIVES LIVES \n",
      "guess a letter or whole word :a\n",
      "['a', '?', '?', '?', '?']\n",
      "lives left: LIVES LIVES LIVES LIVES LIVES LIVES LIVES LIVES LIVES \n",
      "guess a letter or whole word :p\n",
      "['a', 'p', 'p', '?', '?']\n",
      "lives left: LIVES LIVES LIVES LIVES LIVES LIVES LIVES LIVES LIVES \n",
      "guess a letter or whole word :b\n",
      "you lost a life!\n",
      "['a', 'p', 'p', '?', '?']\n",
      "lives left: LIVES LIVES LIVES LIVES LIVES LIVES LIVES LIVES \n",
      "guess a letter or whole word :k\n",
      "you lost a life!\n",
      "['a', 'p', 'p', '?', '?']\n",
      "lives left: LIVES LIVES LIVES LIVES LIVES LIVES LIVES \n",
      "guess a letter or whole word :r\n",
      "you lost a life!\n",
      "['a', 'p', 'p', '?', '?']\n",
      "lives left: LIVES LIVES LIVES LIVES LIVES LIVES \n",
      "guess a letter or whole word :t\n",
      "you lost a life!\n",
      "['a', 'p', 'p', '?', '?']\n",
      "lives left: LIVES LIVES LIVES LIVES LIVES \n",
      "guess a letter or whole word :y\n",
      "you lost a life!\n",
      "['a', 'p', 'p', '?', '?']\n",
      "lives left: LIVES LIVES LIVES LIVES \n",
      "guess a letter or whole word :u\n",
      "you lost a life!\n",
      "['a', 'p', 'p', '?', '?']\n",
      "lives left: LIVES LIVES LIVES \n",
      "guess a letter or whole word :i\n",
      "you lost a life!\n",
      "['a', 'p', 'p', '?', '?']\n",
      "lives left: LIVES LIVES \n",
      "guess a letter or whole word :k\n",
      "you lost a life!\n",
      "['a', 'p', 'p', '?', '?']\n",
      "lives left: LIVES \n",
      "guess a letter or whole word :h\n",
      "you lost a life!\n",
      "you lost and secret word is: apple\n",
      "\n"
     ]
    }
   ],
   "source": [
    "import random\n",
    "import string\n",
    "lives=9\n",
    "words=['pizza','phone','globe','apple','green','alarm','broke','civil','coast','royal','cycle']\n",
    "secret_word=random.choice(words)\n",
    "clue=list('?????')\n",
    "lives_symbol='LIVES '\n",
    "guessed_word_corr=False\n",
    "def update_clue(guessed_letter,secret_word,clue):\n",
    "    index=0\n",
    "    while index<len(secret_word):\n",
    "        if guessed_letter==secret_word[index]:\n",
    "            clue[index]=guessed_letter\n",
    "        index=index+1\n",
    "\n",
    "while lives>0:\n",
    "    print(clue)\n",
    "    print(\"lives left:\",lives_symbol*lives)\n",
    "    guess=input(\"guess a letter or whole word :\")\n",
    "    if guess==secret_word:\n",
    "        guessed_word_corr=True\n",
    "        break\n",
    "    if guess in secret_word:\n",
    "        update_clue(guess,secret_word,clue)\n",
    "    else:\n",
    "        print(\"you lost a life!\")\n",
    "        lives=lives-1\n",
    "if guessed_word_corr:\n",
    "    print(\"you won and secret word is:\",secret_word)\n",
    "else:\n",
    "    print(\"you lost and secret word is:\",secret_word)\n",
    "    \n",
    "print(\"\")\n"
   ]
  },
  {
   "cell_type": "code",
   "execution_count": null,
   "metadata": {},
   "outputs": [],
   "source": []
  }
 ],
 "metadata": {
  "kernelspec": {
   "display_name": "Python 3",
   "language": "python",
   "name": "python3"
  },
  "language_info": {
   "codemirror_mode": {
    "name": "ipython",
    "version": 3
   },
   "file_extension": ".py",
   "mimetype": "text/x-python",
   "name": "python",
   "nbconvert_exporter": "python",
   "pygments_lexer": "ipython3",
   "version": "3.7.6"
  }
 },
 "nbformat": 4,
 "nbformat_minor": 4
}
