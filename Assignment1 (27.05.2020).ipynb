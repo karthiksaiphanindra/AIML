{
 "cells": [
  {
   "cell_type": "markdown",
   "metadata": {},
   "source": [
    "# assignment1(27.05.2020)"
   ]
  },
  {
   "cell_type": "code",
   "execution_count": 1,
   "metadata": {},
   "outputs": [
    {
     "name": "stdout",
     "output_type": "stream",
     "text": [
      "*\n",
      "**\n",
      "***\n",
      "****\n",
      "*****\n"
     ]
    }
   ],
   "source": [
    "# print the pattern \n",
    "n = 1\n",
    "for i in range (0,5):\n",
    "    for j in range (0,n):\n",
    "        print(\"*\",end=\"\")\n",
    "    n = n+1\n",
    "    print()"
   ]
  },
  {
   "cell_type": "code",
   "execution_count": 2,
   "metadata": {},
   "outputs": [
    {
     "name": "stdout",
     "output_type": "stream",
     "text": [
      "enter the number to show the multiplication table5\n",
      "5 x 1 = 5\n",
      "5 x 2 = 10\n",
      "5 x 3 = 15\n",
      "5 x 4 = 20\n",
      "5 x 5 = 25\n",
      "5 x 6 = 30\n",
      "5 x 7 = 35\n",
      "5 x 8 = 40\n",
      "5 x 9 = 45\n",
      "5 x 10 = 50\n"
     ]
    }
   ],
   "source": [
    "#Display Multiplication table of k, tahe the value k from the user\n",
    "numb=int(input(\"enter the number to show the multiplication table\"))\n",
    "i = 1\n",
    "while i < 11 :\n",
    "    print(numb,\"x\",i,\"=\",numb*i)\n",
    "    i=i+1"
   ]
  },
  {
   "cell_type": "code",
   "execution_count": 5,
   "metadata": {},
   "outputs": [
    {
     "name": "stdout",
     "output_type": "stream",
     "text": [
      "enter 'x' to exit.\n",
      "enter the value of a:8\n",
      "enter the value of b:9\n",
      "enter the value of c:10\n",
      "the solutions = (-0.5625-0.9662265521087692j) and (-0.5625-0.9662265521087692j)\n"
     ]
    }
   ],
   "source": [
    "#Roots of a quadratic equation \n",
    "import cmath;\n",
    "print(\"enter 'x' to exit.\")\n",
    "num1 = input(\"enter the value of a:\")\n",
    "if num1 == \"x\":\n",
    "    exit()\n",
    "else :\n",
    "    num2=input(\"enter the value of b:\")\n",
    "    num3=input(\"enter the value of c:\")\n",
    "    numb1=float(num1)\n",
    "    numb2=float(num2)\n",
    "    numb3=float(num3)\n",
    "    d=(numb2**2)-(4*numb1*numb3)\n",
    "    r1=(-numb2-cmath.sqrt(d))/(2*numb1)\n",
    "    r2=(-numb2-cmath.sqrt(d))/(2*numb1)\n",
    "    print(\"the solutions = {0} and {1}\".format(r1,r2))    "
   ]
  },
  {
   "cell_type": "code",
   "execution_count": 6,
   "metadata": {},
   "outputs": [
    {
     "name": "stdout",
     "output_type": "stream",
     "text": [
      "12345\n",
      "the equicvalent bin number is 11000000111001\n"
     ]
    }
   ],
   "source": [
    "#Convert a decimal to binary \n",
    "def dtob(n):\n",
    "    x=bin(n)\n",
    "    x=x[2:]\n",
    "    print(\"the equicvalent bin number is\",x)\n",
    "y=int(input())\n",
    "dtob(y)"
   ]
  },
  {
   "cell_type": "code",
   "execution_count": 9,
   "metadata": {},
   "outputs": [
    {
     "name": "stdout",
     "output_type": "stream",
     "text": [
      "How many terms you want10\n",
      "fibonacci seq\n",
      "0 , 1 , 1 , 2 , 3 , 5 , 8 , 13 , 21 , 34 , "
     ]
    }
   ],
   "source": [
    "#generate first n numbers of fibonacci numbers, take n value from user\n",
    "nterms = int(input(\"How many terms you want\"))\n",
    "n1=0\n",
    "n2=1\n",
    "count=2\n",
    "if nterms <= 0:\n",
    "    print(\"please enter a positive number\")\n",
    "elif nterms == 1:\n",
    "    print(\"fibonacci seq\")\n",
    "    print(n1)\n",
    "else :\n",
    "    print(\"fibonacci seq\")\n",
    "    print(n1,\",\",n2,end=\" , \")\n",
    "    while count < nterms:\n",
    "        nth= n1+n2\n",
    "        print(nth,end= \" , \")\n",
    "        # update values \n",
    "        n1=n2\n",
    "        n2=nth\n",
    "        count= count+1\n"
   ]
  },
  {
   "cell_type": "code",
   "execution_count": null,
   "metadata": {},
   "outputs": [],
   "source": []
  }
 ],
 "metadata": {
  "kernelspec": {
   "display_name": "Python 3",
   "language": "python",
   "name": "python3"
  },
  "language_info": {
   "codemirror_mode": {
    "name": "ipython",
    "version": 3
   },
   "file_extension": ".py",
   "mimetype": "text/x-python",
   "name": "python",
   "nbconvert_exporter": "python",
   "pygments_lexer": "ipython3",
   "version": "3.7.6"
  }
 },
 "nbformat": 4,
 "nbformat_minor": 4
}
